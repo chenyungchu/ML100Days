{
 "cells": [
  {
   "cell_type": "code",
   "execution_count": 41,
   "metadata": {},
   "outputs": [
    {
     "name": "stdout",
     "output_type": "stream",
     "text": [
      "[False  True  True False False  True]\n",
      "3\n",
      "[ True  True  True  True  True  True]\n"
     ]
    },
    {
     "data": {
      "text/plain": [
       "True"
      ]
     },
     "execution_count": 41,
     "metadata": {},
     "output_type": "execute_result"
    }
   ],
   "source": [
    "import numpy as np\n",
    "#1.有多少學生英文成績比數學成績高?\n",
    "english_score = np.array([55,89,76,65,48,70])\n",
    "math_score    = np.array([60,85,60,68,55,60])\n",
    "chinese_score = np.array([65,90,82,72,66,77])\n",
    "\n",
    "print(np.greater(english_score,math_score))\n",
    "print(np.sum(np.greater(english_score,math_score)))\n",
    "\n",
    "#2.是否全班同學最高分都是國文?\n",
    "G1=np.greater(chinese_score,math_score)\n",
    "G2=np.greater(chinese_score,english_score)\n",
    "\n",
    "print(np.logical_and(G1,G2))\n",
    "np.any(np.logical_and(G1,G2),axis=0) "
   ]
  }
 ],
 "metadata": {
  "kernelspec": {
   "display_name": "Python 3",
   "language": "python",
   "name": "python3"
  },
  "language_info": {
   "codemirror_mode": {
    "name": "ipython",
    "version": 3
   },
   "file_extension": ".py",
   "mimetype": "text/x-python",
   "name": "python",
   "nbconvert_exporter": "python",
   "pygments_lexer": "ipython3",
   "version": "3.8.5"
  }
 },
 "nbformat": 4,
 "nbformat_minor": 4
}
